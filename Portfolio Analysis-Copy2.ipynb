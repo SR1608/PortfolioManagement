{
 "cells": [
  {
   "cell_type": "code",
   "execution_count": 60,
   "metadata": {},
   "outputs": [],
   "source": [
    "###Importing required libraries\n",
    "import quandl\n",
    "import pandas_datareader.data as web\n",
    "import numpy as np\n",
    "import pandas as pd\n",
    "import matplotlib.pyplot as plt\n",
    "import seaborn as sns"
   ]
  },
  {
   "cell_type": "code",
   "execution_count": 52,
   "metadata": {},
   "outputs": [],
   "source": [
    "#Download daily price data for each of the stocks in the portfolio\n",
    "bajaj=quandl.get(\"NSE/BAJFINANCE.5\")\n",
    "jsw=quandl.get(\"NSE/JSWSTEEL.5\")\n",
    "maruti=quandl.get(\"NSE/MARUTI.5\")\n",
    "tcs=quandl.get(\"NSE/TCS.5\")\n",
    "hul=quandl.get(\"NSE/HINDUNILVR.5\")\n",
    "nifty=quandl.get(\"NSE/CNX_NIFTY\")"
   ]
  },
  {
   "cell_type": "code",
   "execution_count": 74,
   "metadata": {},
   "outputs": [
    {
     "data": {
      "text/html": [
       "<div>\n",
       "<style scoped>\n",
       "    .dataframe tbody tr th:only-of-type {\n",
       "        vertical-align: middle;\n",
       "    }\n",
       "\n",
       "    .dataframe tbody tr th {\n",
       "        vertical-align: top;\n",
       "    }\n",
       "\n",
       "    .dataframe thead th {\n",
       "        text-align: right;\n",
       "    }\n",
       "</style>\n",
       "<table border=\"1\" class=\"dataframe\">\n",
       "  <thead>\n",
       "    <tr style=\"text-align: right;\">\n",
       "      <th></th>\n",
       "      <th>bajaj</th>\n",
       "      <th>jsw</th>\n",
       "      <th>maruti</th>\n",
       "      <th>tcs</th>\n",
       "      <th>hul</th>\n",
       "    </tr>\n",
       "    <tr>\n",
       "      <th>Date</th>\n",
       "      <th></th>\n",
       "      <th></th>\n",
       "      <th></th>\n",
       "      <th></th>\n",
       "      <th></th>\n",
       "    </tr>\n",
       "  </thead>\n",
       "  <tbody>\n",
       "    <tr>\n",
       "      <th>2018-10-26</th>\n",
       "      <td>2338.90</td>\n",
       "      <td>337.45</td>\n",
       "      <td>6717.30</td>\n",
       "      <td>1799.10</td>\n",
       "      <td>1558.25</td>\n",
       "    </tr>\n",
       "    <tr>\n",
       "      <th>2018-10-29</th>\n",
       "      <td>2380.45</td>\n",
       "      <td>340.00</td>\n",
       "      <td>6798.70</td>\n",
       "      <td>1871.00</td>\n",
       "      <td>1552.90</td>\n",
       "    </tr>\n",
       "    <tr>\n",
       "      <th>2018-10-30</th>\n",
       "      <td>2356.35</td>\n",
       "      <td>335.80</td>\n",
       "      <td>6697.00</td>\n",
       "      <td>1894.80</td>\n",
       "      <td>1593.05</td>\n",
       "    </tr>\n",
       "    <tr>\n",
       "      <th>2018-10-31</th>\n",
       "      <td>2382.55</td>\n",
       "      <td>339.40</td>\n",
       "      <td>6616.40</td>\n",
       "      <td>1938.15</td>\n",
       "      <td>1621.70</td>\n",
       "    </tr>\n",
       "    <tr>\n",
       "      <th>2018-11-01</th>\n",
       "      <td>2418.10</td>\n",
       "      <td>342.75</td>\n",
       "      <td>6711.75</td>\n",
       "      <td>1935.75</td>\n",
       "      <td>1607.65</td>\n",
       "    </tr>\n",
       "    <tr>\n",
       "      <th>2018-11-02</th>\n",
       "      <td>2383.30</td>\n",
       "      <td>352.80</td>\n",
       "      <td>7135.45</td>\n",
       "      <td>1913.45</td>\n",
       "      <td>1638.45</td>\n",
       "    </tr>\n",
       "    <tr>\n",
       "      <th>2018-11-05</th>\n",
       "      <td>2359.40</td>\n",
       "      <td>353.65</td>\n",
       "      <td>7177.25</td>\n",
       "      <td>1890.85</td>\n",
       "      <td>1640.05</td>\n",
       "    </tr>\n",
       "    <tr>\n",
       "      <th>2018-11-06</th>\n",
       "      <td>2339.75</td>\n",
       "      <td>350.75</td>\n",
       "      <td>7075.00</td>\n",
       "      <td>1932.70</td>\n",
       "      <td>1631.95</td>\n",
       "    </tr>\n",
       "    <tr>\n",
       "      <th>2018-11-07</th>\n",
       "      <td>2348.40</td>\n",
       "      <td>351.65</td>\n",
       "      <td>7127.90</td>\n",
       "      <td>1942.15</td>\n",
       "      <td>1643.85</td>\n",
       "    </tr>\n",
       "    <tr>\n",
       "      <th>2018-11-09</th>\n",
       "      <td>2375.35</td>\n",
       "      <td>347.50</td>\n",
       "      <td>7283.50</td>\n",
       "      <td>1909.20</td>\n",
       "      <td>1672.60</td>\n",
       "    </tr>\n",
       "  </tbody>\n",
       "</table>\n",
       "</div>"
      ],
      "text/plain": [
       "              bajaj     jsw   maruti      tcs      hul\n",
       "Date                                                  \n",
       "2018-10-26  2338.90  337.45  6717.30  1799.10  1558.25\n",
       "2018-10-29  2380.45  340.00  6798.70  1871.00  1552.90\n",
       "2018-10-30  2356.35  335.80  6697.00  1894.80  1593.05\n",
       "2018-10-31  2382.55  339.40  6616.40  1938.15  1621.70\n",
       "2018-11-01  2418.10  342.75  6711.75  1935.75  1607.65\n",
       "2018-11-02  2383.30  352.80  7135.45  1913.45  1638.45\n",
       "2018-11-05  2359.40  353.65  7177.25  1890.85  1640.05\n",
       "2018-11-06  2339.75  350.75  7075.00  1932.70  1631.95\n",
       "2018-11-07  2348.40  351.65  7127.90  1942.15  1643.85\n",
       "2018-11-09  2375.35  347.50  7283.50  1909.20  1672.60"
      ]
     },
     "execution_count": 74,
     "metadata": {},
     "output_type": "execute_result"
    }
   ],
   "source": [
    "data = pd.concat([bajaj, jsw,maruti,tcs,hul], axis=1, join='inner')\n",
    "data.columns = ['bajaj','jsw','maruti','tcs','hul']\n",
    "data.sort_index(inplace=True)\n",
    "data.head()\n",
    "data.tail()"
   ]
  },
  {
   "cell_type": "code",
   "execution_count": 233,
   "metadata": {},
   "outputs": [
    {
     "data": {
      "text/html": [
       "<div>\n",
       "<style scoped>\n",
       "    .dataframe tbody tr th:only-of-type {\n",
       "        vertical-align: middle;\n",
       "    }\n",
       "\n",
       "    .dataframe tbody tr th {\n",
       "        vertical-align: top;\n",
       "    }\n",
       "\n",
       "    .dataframe thead th {\n",
       "        text-align: right;\n",
       "    }\n",
       "</style>\n",
       "<table border=\"1\" class=\"dataframe\">\n",
       "  <thead>\n",
       "    <tr style=\"text-align: right;\">\n",
       "      <th></th>\n",
       "      <th>bajaj</th>\n",
       "      <th>jsw</th>\n",
       "      <th>maruti</th>\n",
       "      <th>tcs</th>\n",
       "      <th>hul</th>\n",
       "    </tr>\n",
       "    <tr>\n",
       "      <th>Date</th>\n",
       "      <th></th>\n",
       "      <th></th>\n",
       "      <th></th>\n",
       "      <th></th>\n",
       "      <th></th>\n",
       "    </tr>\n",
       "  </thead>\n",
       "  <tbody>\n",
       "    <tr>\n",
       "      <th>2010-09-29</th>\n",
       "      <td>NaN</td>\n",
       "      <td>NaN</td>\n",
       "      <td>NaN</td>\n",
       "      <td>NaN</td>\n",
       "      <td>NaN</td>\n",
       "    </tr>\n",
       "    <tr>\n",
       "      <th>2010-09-30</th>\n",
       "      <td>-0.001356</td>\n",
       "      <td>0.006491</td>\n",
       "      <td>0.007587</td>\n",
       "      <td>0.007171</td>\n",
       "      <td>0.009967</td>\n",
       "    </tr>\n",
       "    <tr>\n",
       "      <th>2010-10-01</th>\n",
       "      <td>0.001810</td>\n",
       "      <td>0.027785</td>\n",
       "      <td>0.027101</td>\n",
       "      <td>0.037381</td>\n",
       "      <td>0.002103</td>\n",
       "    </tr>\n",
       "    <tr>\n",
       "      <th>2010-10-04</th>\n",
       "      <td>0.010904</td>\n",
       "      <td>0.015688</td>\n",
       "      <td>0.000135</td>\n",
       "      <td>-0.006032</td>\n",
       "      <td>-0.003713</td>\n",
       "    </tr>\n",
       "    <tr>\n",
       "      <th>2010-10-05</th>\n",
       "      <td>-0.005617</td>\n",
       "      <td>-0.010920</td>\n",
       "      <td>0.015674</td>\n",
       "      <td>-0.005807</td>\n",
       "      <td>-0.014746</td>\n",
       "    </tr>\n",
       "  </tbody>\n",
       "</table>\n",
       "</div>"
      ],
      "text/plain": [
       "               bajaj       jsw    maruti       tcs       hul\n",
       "Date                                                        \n",
       "2010-09-29       NaN       NaN       NaN       NaN       NaN\n",
       "2010-09-30 -0.001356  0.006491  0.007587  0.007171  0.009967\n",
       "2010-10-01  0.001810  0.027785  0.027101  0.037381  0.002103\n",
       "2010-10-04  0.010904  0.015688  0.000135 -0.006032 -0.003713\n",
       "2010-10-05 -0.005617 -0.010920  0.015674 -0.005807 -0.014746"
      ]
     },
     "execution_count": 233,
     "metadata": {},
     "output_type": "execute_result"
    }
   ],
   "source": [
    "#convert daily stock prices into daily returns\n",
    "returns = data.pct_change()\n",
    "\n",
    "#calculate mean daily return,std dev and covariance of daily returns\n",
    "mean_daily_returns = returns.mean()\n",
    "return_stdev = returns.std()\n",
    "cov_matrix = returns.cov()\n",
    "\n",
    "#calculate annualised expected return and std deviation for each stock and the portfolio.\n",
    "annualised_return = round(mean_return * 252,2)\n",
    "annualised_stdev = round(return_stdev * np.sqrt(252),2)\n",
    "\n",
    "#set array holding portfolio weights of each stock\n",
    "weights = np.asarray([0.5,0.2,0.1,0.1,0.1])\n",
    " \n",
    "#calculate annualised portfolio return\n",
    "portfolio_return = round(np.sum(mean_daily_returns * weights) * 252,2)\n",
    "#calculate annualised portfolio volatility\n",
    "portfolio_std_dev = round(np.sqrt(np.dot(weights.T,np.dot(cov_matrix, weights))) * np.sqrt(252),2)\n",
    "returns.head()"
   ]
  },
  {
   "cell_type": "code",
   "execution_count": 1,
   "metadata": {},
   "outputs": [],
   "source": [
    "# # We have to take the percent changes to get to returns hence we will use .pct_change()\n",
    "# # We do not want the first (0th) element because it is NAN\n",
    "\n",
    "# return_bajaj = data.bajaj.pct_change()[1:]\n",
    "# return_jsw = data.jsw.pct_change()[1:]\n",
    "# return_maruti = data.maruti.pct_change()[1:]\n",
    "# return_tcs = data.tcs.pct_change()[1:]\n",
    "# return_hul = data.hul.pct_change()[1:]\n",
    "\n",
    "# # We will plot the returns of Portfolio Stocks\n",
    "# plt.figure(figsize=(20,10))\n",
    "# return_bajaj.plot()\n",
    "# return_jsw.plot()\n",
    "# return_maruti.plot()\n",
    "# return_tcs.plot()\n",
    "# return_hul.plot()\n",
    "# plt.ylabel(\"Daily Return of portfolio stocks\")\n",
    "# plt.show()\n"
   ]
  },
  {
   "cell_type": "code",
   "execution_count": 247,
   "metadata": {},
   "outputs": [],
   "source": [
    "data.to_csv(\"file_name1.csv\", sep='\\t')"
   ]
  },
  {
   "cell_type": "code",
   "execution_count": 56,
   "metadata": {},
   "outputs": [
    {
     "data": {
      "text/plain": [
       "bajaj     0.37\n",
       "jsw       0.08\n",
       "maruti    0.24\n",
       "tcs       0.15\n",
       "hul       0.24\n",
       "dtype: float64"
      ]
     },
     "execution_count": 56,
     "metadata": {},
     "output_type": "execute_result"
    }
   ],
   "source": [
    "annualised_return"
   ]
  },
  {
   "cell_type": "code",
   "execution_count": 57,
   "metadata": {},
   "outputs": [
    {
     "data": {
      "text/plain": [
       "bajaj     0.46\n",
       "jsw       0.49\n",
       "maruti    0.27\n",
       "tcs       0.31\n",
       "hul       0.23\n",
       "dtype: float64"
      ]
     },
     "execution_count": 57,
     "metadata": {},
     "output_type": "execute_result"
    }
   ],
   "source": [
    "annualised_stdev"
   ]
  },
  {
   "cell_type": "code",
   "execution_count": 61,
   "metadata": {},
   "outputs": [
    {
     "data": {
      "text/plain": [
       "<matplotlib.axes._subplots.AxesSubplot at 0x235a559fba8>"
      ]
     },
     "execution_count": 61,
     "metadata": {},
     "output_type": "execute_result"
    },
    {
     "data": {
      "image/png": "[encoded data removed]",
      "text/plain": [
       "<matplotlib.figure.Figure at 0x235a2a3b2e8>"
      ]
     },
     "metadata": {},
     "output_type": "display_data"
    }
   ],
   "source": [
    "# plot the heatmap\n",
    "sns.heatmap(cov_matrix, \n",
    "        xticklabels=cov_matrix.columns,\n",
    "        yticklabels=cov_matrix.columns)"
   ]
  },
  {
   "cell_type": "code",
   "execution_count": 62,
   "metadata": {},
   "outputs": [
    {
     "data": {
      "text/plain": [
       "0.26"
      ]
     },
     "execution_count": 62,
     "metadata": {},
     "output_type": "execute_result"
    }
   ],
   "source": [
    "portfolio_return"
   ]
  },
  {
   "cell_type": "code",
   "execution_count": 63,
   "metadata": {},
   "outputs": [
    {
     "data": {
      "text/plain": [
       "0.28"
      ]
     },
     "execution_count": 63,
     "metadata": {},
     "output_type": "execute_result"
    }
   ],
   "source": [
    "portfolio_std_dev"
   ]
  },
  {
   "cell_type": "code",
   "execution_count": 68,
   "metadata": {},
   "outputs": [
    {
     "data": {
      "text/plain": [
       "<matplotlib.colorbar.Colorbar at 0x235a55e5400>"
      ]
     },
     "execution_count": 68,
     "metadata": {},
     "output_type": "execute_result"
    },
    {
     "data": {
      "image/png": "[encoded data removed]",
      "text/plain": [
       "<matplotlib.figure.Figure at 0x235a53d60b8>"
      ]
     },
     "metadata": {},
     "output_type": "display_data"
    }
   ],
   "source": [
    "#set number of runs of random portfolio weights\n",
    "num_portfolios = 25000\n",
    "\n",
    "#set up array to hold results\n",
    "results = np.zeros((3,num_portfolios))\n",
    "rf=0.045\n",
    "\n",
    "for i in range(num_portfolios):\n",
    "    #select random weights for portfolio holdings\n",
    "    weights = np.random.random(5)\n",
    "    #rebalance weights to sum to 1\n",
    "    weights /= np.sum(weights)\n",
    "    \n",
    "    #calculate portfolio return and volatility\n",
    "    portfolio_return = np.sum(mean_daily_returns * weights) * 252\n",
    "    portfolio_std_dev = np.sqrt(np.dot(weights.T,np.dot(cov_matrix, weights))) * np.sqrt(252)\n",
    "    \n",
    "    #store results in results array\n",
    "    results[0,i] = portfolio_return\n",
    "    results[1,i] = portfolio_std_dev\n",
    "    #store Sharpe Ratio (return / volatility) - risk free rate = 4.5 %\n",
    "    results[2,i] = (results[0,i] - rf)/ results[1,i]\n",
    "\n",
    "#convert results array to Pandas DataFrame\n",
    "results_frame = pd.DataFrame(results.T,columns=['ret','stdev','sharpe'])\n",
    "\n",
    "#create scatter plot coloured by Sharpe Ratio\n",
    "plt.scatter(results_frame.stdev,results_frame.ret,c=results_frame.sharpe,cmap='RdYlBu')\n",
    "plt.colorbar()"
   ]
  },
  {
   "cell_type": "code",
   "execution_count": 69,
   "metadata": {},
   "outputs": [
    {
     "data": {
      "text/plain": [
       "<matplotlib.collections.PathCollection at 0x235a6b53d68>"
      ]
     },
     "execution_count": 69,
     "metadata": {},
     "output_type": "execute_result"
    },
    {
     "data": {
      "image/png": "[encoded data removed]",
      "text/plain": [
       "<matplotlib.figure.Figure at 0x235a4081ba8>"
      ]
     },
     "metadata": {},
     "output_type": "display_data"
    }
   ],
   "source": [
    "#set number of runs of random portfolio weights\n",
    "num_portfolios = 25000\n",
    "stocks = ['bajaj','jsw','maruti','tcs','hul']\n",
    "#set up array to hold results\n",
    "#We have increased the size of the array to hold the weight values for each stock\n",
    "results = np.zeros((4+len(stocks)-1,num_portfolios))\n",
    " \n",
    "for i in range(num_portfolios):\n",
    "    #select random weights for portfolio holdings\n",
    "    weights = np.array(np.random.random(5))\n",
    "    #rebalance weights to sum to 1\n",
    "    weights /= np.sum(weights)\n",
    "    \n",
    "    #calculate portfolio return and volatility\n",
    "    portfolio_return = np.sum(mean_daily_returns * weights) * 252\n",
    "    portfolio_std_dev = np.sqrt(np.dot(weights.T,np.dot(cov_matrix, weights))) * np.sqrt(252)\n",
    "    \n",
    "    #store results in results array\n",
    "    results[0,i] = portfolio_return\n",
    "    results[1,i] = portfolio_std_dev\n",
    "    #store Sharpe Ratio (return / volatility) - risk free rate, rf = 4.5%\n",
    "    results[2,i] = (results[0,i] - rf )/ results[1,i]\n",
    "    #iterate through the weight vector and add data to results array\n",
    "    for j in range(len(weights)):\n",
    "        results[j+3,i] = weights[j]\n",
    " \n",
    "#convert results array to Pandas DataFrame\n",
    "results_frame = pd.DataFrame(results.T,columns=['ret','stdev','sharpe',stocks[0],stocks[1],stocks[2],stocks[3],stocks[4]])\n",
    " \n",
    "#locate position of portfolio with highest Sharpe Ratio\n",
    "max_sharpe_port = results_frame.iloc[results_frame['sharpe'].idxmax()]\n",
    "#locate positon of portfolio with minimum standard deviation\n",
    "min_vol_port = results_frame.iloc[results_frame['stdev'].idxmin()]\n",
    " \n",
    "#create scatter plot coloured by Sharpe Ratio\n",
    "plt.scatter(results_frame.stdev,results_frame.ret,c=results_frame.sharpe,cmap='RdYlBu')\n",
    "plt.xlabel('Volatility')\n",
    "plt.ylabel('Returns')\n",
    "plt.colorbar()\n",
    "#plot red star to highlight position of portfolio with highest Sharpe Ratio\n",
    "plt.scatter(max_sharpe_port[1],max_sharpe_port[0],marker=(5,1,0),color='r',s=1000)\n",
    "#plot green star to highlight position of minimum variance portfolio\n",
    "plt.scatter(min_vol_port[1],min_vol_port[0],marker=(5,1,0),color='g',s=1000)"
   ]
  },
  {
   "cell_type": "code",
   "execution_count": 70,
   "metadata": {},
   "outputs": [
    {
     "name": "stdout",
     "output_type": "stream",
     "text": [
      "ret       0.249745\n",
      "stdev     0.177526\n",
      "sharpe    1.153319\n",
      "bajaj     0.165715\n",
      "jsw       0.007733\n",
      "maruti    0.250719\n",
      "tcs       0.113632\n",
      "hul       0.462201\n",
      "Name: 7636, dtype: float64\n"
     ]
    }
   ],
   "source": [
    "print(max_sharpe_port)"
   ]
  },
  {
   "cell_type": "code",
   "execution_count": 71,
   "metadata": {},
   "outputs": [
    {
     "name": "stdout",
     "output_type": "stream",
     "text": [
      "ret       0.220567\n",
      "stdev     0.167547\n",
      "sharpe    1.047867\n",
      "bajaj     0.043749\n",
      "jsw       0.026594\n",
      "maruti    0.276894\n",
      "tcs       0.223712\n",
      "hul       0.429051\n",
      "Name: 12347, dtype: float64\n"
     ]
    }
   ],
   "source": [
    "print(min_vol_port)"
   ]
  },
  {
   "cell_type": "code",
   "execution_count": 79,
   "metadata": {},
   "outputs": [],
   "source": [
    "nifty=quandl.get(\"NSE/CNX_NIFTY.4\")"
   ]
  },
  {
   "cell_type": "code",
   "execution_count": 80,
   "metadata": {},
   "outputs": [
    {
     "data": {
      "text/html": [
       "<div>\n",
       "<style scoped>\n",
       "    .dataframe tbody tr th:only-of-type {\n",
       "        vertical-align: middle;\n",
       "    }\n",
       "\n",
       "    .dataframe tbody tr th {\n",
       "        vertical-align: top;\n",
       "    }\n",
       "\n",
       "    .dataframe thead th {\n",
       "        text-align: right;\n",
       "    }\n",
       "</style>\n",
       "<table border=\"1\" class=\"dataframe\">\n",
       "  <thead>\n",
       "    <tr style=\"text-align: right;\">\n",
       "      <th></th>\n",
       "      <th>Close</th>\n",
       "    </tr>\n",
       "    <tr>\n",
       "      <th>Date</th>\n",
       "      <th></th>\n",
       "    </tr>\n",
       "  </thead>\n",
       "  <tbody>\n",
       "    <tr>\n",
       "      <th>2018-10-26</th>\n",
       "      <td>10030.00</td>\n",
       "    </tr>\n",
       "    <tr>\n",
       "      <th>2018-10-29</th>\n",
       "      <td>10250.85</td>\n",
       "    </tr>\n",
       "    <tr>\n",
       "      <th>2018-10-30</th>\n",
       "      <td>10198.40</td>\n",
       "    </tr>\n",
       "    <tr>\n",
       "      <th>2018-10-31</th>\n",
       "      <td>10386.60</td>\n",
       "    </tr>\n",
       "    <tr>\n",
       "      <th>2018-11-01</th>\n",
       "      <td>10380.45</td>\n",
       "    </tr>\n",
       "    <tr>\n",
       "      <th>2018-11-02</th>\n",
       "      <td>10553.00</td>\n",
       "    </tr>\n",
       "    <tr>\n",
       "      <th>2018-11-05</th>\n",
       "      <td>10524.00</td>\n",
       "    </tr>\n",
       "    <tr>\n",
       "      <th>2018-11-06</th>\n",
       "      <td>10530.00</td>\n",
       "    </tr>\n",
       "    <tr>\n",
       "      <th>2018-11-07</th>\n",
       "      <td>10598.40</td>\n",
       "    </tr>\n",
       "    <tr>\n",
       "      <th>2018-11-09</th>\n",
       "      <td>10585.20</td>\n",
       "    </tr>\n",
       "  </tbody>\n",
       "</table>\n",
       "</div>"
      ],
      "text/plain": [
       "               Close\n",
       "Date                \n",
       "2018-10-26  10030.00\n",
       "2018-10-29  10250.85\n",
       "2018-10-30  10198.40\n",
       "2018-10-31  10386.60\n",
       "2018-11-01  10380.45\n",
       "2018-11-02  10553.00\n",
       "2018-11-05  10524.00\n",
       "2018-11-06  10530.00\n",
       "2018-11-07  10598.40\n",
       "2018-11-09  10585.20"
      ]
     },
     "execution_count": 80,
     "metadata": {},
     "output_type": "execute_result"
    }
   ],
   "source": [
    "nifty.tail(10)"
   ]
  },
  {
   "cell_type": "code",
   "execution_count": 147,
   "metadata": {},
   "outputs": [
    {
     "data": {
      "text/html": [
       "<div>\n",
       "<style scoped>\n",
       "    .dataframe tbody tr th:only-of-type {\n",
       "        vertical-align: middle;\n",
       "    }\n",
       "\n",
       "    .dataframe tbody tr th {\n",
       "        vertical-align: top;\n",
       "    }\n",
       "\n",
       "    .dataframe thead th {\n",
       "        text-align: right;\n",
       "    }\n",
       "</style>\n",
       "<table border=\"1\" class=\"dataframe\">\n",
       "  <thead>\n",
       "    <tr style=\"text-align: right;\">\n",
       "      <th></th>\n",
       "      <th>nifty</th>\n",
       "      <th>bajaj</th>\n",
       "      <th>jsw</th>\n",
       "      <th>maruti</th>\n",
       "      <th>tcs</th>\n",
       "      <th>hul</th>\n",
       "    </tr>\n",
       "    <tr>\n",
       "      <th>Date</th>\n",
       "      <th></th>\n",
       "      <th></th>\n",
       "      <th></th>\n",
       "      <th></th>\n",
       "      <th></th>\n",
       "      <th></th>\n",
       "    </tr>\n",
       "  </thead>\n",
       "  <tbody>\n",
       "    <tr>\n",
       "      <th>2018-10-26</th>\n",
       "      <td>10030.00</td>\n",
       "      <td>2338.90</td>\n",
       "      <td>337.45</td>\n",
       "      <td>6717.30</td>\n",
       "      <td>1799.10</td>\n",
       "      <td>1558.25</td>\n",
       "    </tr>\n",
       "    <tr>\n",
       "      <th>2018-10-29</th>\n",
       "      <td>10250.85</td>\n",
       "      <td>2380.45</td>\n",
       "      <td>340.00</td>\n",
       "      <td>6798.70</td>\n",
       "      <td>1871.00</td>\n",
       "      <td>1552.90</td>\n",
       "    </tr>\n",
       "    <tr>\n",
       "      <th>2018-10-30</th>\n",
       "      <td>10198.40</td>\n",
       "      <td>2356.35</td>\n",
       "      <td>335.80</td>\n",
       "      <td>6697.00</td>\n",
       "      <td>1894.80</td>\n",
       "      <td>1593.05</td>\n",
       "    </tr>\n",
       "    <tr>\n",
       "      <th>2018-10-31</th>\n",
       "      <td>10386.60</td>\n",
       "      <td>2382.55</td>\n",
       "      <td>339.40</td>\n",
       "      <td>6616.40</td>\n",
       "      <td>1938.15</td>\n",
       "      <td>1621.70</td>\n",
       "    </tr>\n",
       "    <tr>\n",
       "      <th>2018-11-01</th>\n",
       "      <td>10380.45</td>\n",
       "      <td>2418.10</td>\n",
       "      <td>342.75</td>\n",
       "      <td>6711.75</td>\n",
       "      <td>1935.75</td>\n",
       "      <td>1607.65</td>\n",
       "    </tr>\n",
       "    <tr>\n",
       "      <th>2018-11-02</th>\n",
       "      <td>10553.00</td>\n",
       "      <td>2383.30</td>\n",
       "      <td>352.80</td>\n",
       "      <td>7135.45</td>\n",
       "      <td>1913.45</td>\n",
       "      <td>1638.45</td>\n",
       "    </tr>\n",
       "    <tr>\n",
       "      <th>2018-11-05</th>\n",
       "      <td>10524.00</td>\n",
       "      <td>2359.40</td>\n",
       "      <td>353.65</td>\n",
       "      <td>7177.25</td>\n",
       "      <td>1890.85</td>\n",
       "      <td>1640.05</td>\n",
       "    </tr>\n",
       "    <tr>\n",
       "      <th>2018-11-06</th>\n",
       "      <td>10530.00</td>\n",
       "      <td>2339.75</td>\n",
       "      <td>350.75</td>\n",
       "      <td>7075.00</td>\n",
       "      <td>1932.70</td>\n",
       "      <td>1631.95</td>\n",
       "    </tr>\n",
       "    <tr>\n",
       "      <th>2018-11-07</th>\n",
       "      <td>10598.40</td>\n",
       "      <td>2348.40</td>\n",
       "      <td>351.65</td>\n",
       "      <td>7127.90</td>\n",
       "      <td>1942.15</td>\n",
       "      <td>1643.85</td>\n",
       "    </tr>\n",
       "    <tr>\n",
       "      <th>2018-11-09</th>\n",
       "      <td>10585.20</td>\n",
       "      <td>2375.35</td>\n",
       "      <td>347.50</td>\n",
       "      <td>7283.50</td>\n",
       "      <td>1909.20</td>\n",
       "      <td>1672.60</td>\n",
       "    </tr>\n",
       "  </tbody>\n",
       "</table>\n",
       "</div>"
      ],
      "text/plain": [
       "               nifty    bajaj     jsw   maruti      tcs      hul\n",
       "Date                                                            \n",
       "2018-10-26  10030.00  2338.90  337.45  6717.30  1799.10  1558.25\n",
       "2018-10-29  10250.85  2380.45  340.00  6798.70  1871.00  1552.90\n",
       "2018-10-30  10198.40  2356.35  335.80  6697.00  1894.80  1593.05\n",
       "2018-10-31  10386.60  2382.55  339.40  6616.40  1938.15  1621.70\n",
       "2018-11-01  10380.45  2418.10  342.75  6711.75  1935.75  1607.65\n",
       "2018-11-02  10553.00  2383.30  352.80  7135.45  1913.45  1638.45\n",
       "2018-11-05  10524.00  2359.40  353.65  7177.25  1890.85  1640.05\n",
       "2018-11-06  10530.00  2339.75  350.75  7075.00  1932.70  1631.95\n",
       "2018-11-07  10598.40  2348.40  351.65  7127.90  1942.15  1643.85\n",
       "2018-11-09  10585.20  2375.35  347.50  7283.50  1909.20  1672.60"
      ]
     },
     "execution_count": 147,
     "metadata": {},
     "output_type": "execute_result"
    }
   ],
   "source": [
    "# import statsmodels.api as sm\n",
    "# from statsmodels import regression\n",
    "linear = pd.concat([nifty,bajaj, jsw,maruti,tcs,hul], axis=1, join='inner')\n",
    "linear.columns = ['nifty','bajaj','jsw','maruti','tcs','hul']\n",
    "\n",
    "# X = linear['nifty']\n",
    "# y = linear['hul']\n",
    "\n",
    "# def linreg(x,y):\n",
    "\n",
    "#     x = sm.add_constant(x)\n",
    "#     model = regression.linear_model.OLS(y,x).fit()\n",
    " \n",
    "#     # We are removing the constant\n",
    "#     x = x[:, 1]\n",
    "#     return model.params[0], model.params[1]\n",
    "\n",
    "# alpha, beta = linreg(X,Y)\n",
    "# print ('alpha:' + str(alpha))\n",
    "# print ('beta: ' + str(beta))\n",
    "\n",
    "# alternatively scipy linear regression\n",
    "# from scipy import stats\n",
    "# slope, intercept, r_value, p_value, std_err = stats.linregress(X, y)\n",
    "\n",
    "# print(1-slope)\n",
    "linear.tail(10)"
   ]
  },
  {
   "cell_type": "markdown",
   "metadata": {},
   "source": [
    "# Calculating Beta(β) & R-Square"
   ]
  },
  {
   "cell_type": "code",
   "execution_count": 191,
   "metadata": {},
   "outputs": [
    {
     "data": {
      "text/plain": [
       "0.024139963161143026"
      ]
     },
     "execution_count": 191,
     "metadata": {},
     "output_type": "execute_result"
    }
   ],
   "source": [
    "linear = pd.concat([nifty,bajaj, jsw,maruti,tcs,hul], axis=1, join='inner')\n",
    "linear.columns = ['nifty','bajaj','jsw','maruti','tcs','hul']\n",
    "linear.sort_index(inplace=True)\n",
    "\n",
    "#convert daily stock prices into daily returns\n",
    "beta = linear.pct_change()\n",
    "\n",
    "# #calculate variance of daily nifty returns\n",
    "return_nifty_var = beta[\"nifty\"].var()\n",
    "# annualised_nifty_var = round(return_nifty_var * 252,2)\n",
    "# annualised_nifty_var\n",
    "\n",
    "##Covariance of stock with respect to nifty index\n",
    "df = pd.DataFrame(beta.iloc[773:])\n",
    "df_cov=df.cov()\n",
    "\n",
    "#Correlation of stock \n",
    "df_corr=df.corr(method='pearson', min_periods=1)"
   ]
  },
  {
   "cell_type": "code",
   "execution_count": 203,
   "metadata": {},
   "outputs": [],
   "source": [
    "def beta(name):\n",
    "    bt=df_cov.iloc[0][name]/(return_nifty_var)\n",
    "    rsqu=df_corr.iloc[0][name]\n",
    "    return bt,rsqu"
   ]
  },
  {
   "cell_type": "code",
   "execution_count": 205,
   "metadata": {},
   "outputs": [
    {
     "data": {
      "text/plain": [
       "(0.41714891065489457, 0.3483962446820451)"
      ]
     },
     "execution_count": 205,
     "metadata": {},
     "output_type": "execute_result"
    }
   ],
   "source": [
    "beta_hul=beta(\"hul\")\n",
    "beta_hul"
   ]
  },
  {
   "cell_type": "code",
   "execution_count": 224,
   "metadata": {},
   "outputs": [
    {
     "data": {
      "text/html": [
       "<div>\n",
       "<style scoped>\n",
       "    .dataframe tbody tr th:only-of-type {\n",
       "        vertical-align: middle;\n",
       "    }\n",
       "\n",
       "    .dataframe tbody tr th {\n",
       "        vertical-align: top;\n",
       "    }\n",
       "\n",
       "    .dataframe thead th {\n",
       "        text-align: right;\n",
       "    }\n",
       "</style>\n",
       "<table border=\"1\" class=\"dataframe\">\n",
       "  <thead>\n",
       "    <tr style=\"text-align: right;\">\n",
       "      <th></th>\n",
       "      <th>NIFTY</th>\n",
       "      <th>Hindalco</th>\n",
       "      <th>Hero MotoCorp Ltd</th>\n",
       "      <th>Bajaj Auto Ltd</th>\n",
       "      <th>Maruti Suzuki India Ltd</th>\n",
       "      <th>Mahindra &amp; Mahindra Ltd</th>\n",
       "      <th>Eicher Motors Ltd</th>\n",
       "      <th>Tata Motors Ltd</th>\n",
       "      <th>Yes Bank Ltd</th>\n",
       "      <th>Axis Bank Ltd</th>\n",
       "    </tr>\n",
       "  </thead>\n",
       "  <tbody>\n",
       "    <tr>\n",
       "      <th>0</th>\n",
       "      <td>0.0185</td>\n",
       "      <td>-0.0156</td>\n",
       "      <td>-0.0042</td>\n",
       "      <td>0.0147</td>\n",
       "      <td>-0.0120</td>\n",
       "      <td>0.0263</td>\n",
       "      <td>0.0399</td>\n",
       "      <td>0.0104</td>\n",
       "      <td>0.0332</td>\n",
       "      <td>0.0350</td>\n",
       "    </tr>\n",
       "    <tr>\n",
       "      <th>1</th>\n",
       "      <td>-0.0051</td>\n",
       "      <td>-0.0011</td>\n",
       "      <td>0.0087</td>\n",
       "      <td>0.0028</td>\n",
       "      <td>-0.0150</td>\n",
       "      <td>-0.0043</td>\n",
       "      <td>-0.0203</td>\n",
       "      <td>0.0108</td>\n",
       "      <td>0.0041</td>\n",
       "      <td>-0.0071</td>\n",
       "    </tr>\n",
       "    <tr>\n",
       "      <th>2</th>\n",
       "      <td>0.0220</td>\n",
       "      <td>0.0131</td>\n",
       "      <td>0.0164</td>\n",
       "      <td>0.0141</td>\n",
       "      <td>0.0121</td>\n",
       "      <td>0.0293</td>\n",
       "      <td>-0.0158</td>\n",
       "      <td>0.0407</td>\n",
       "      <td>0.0033</td>\n",
       "      <td>0.0539</td>\n",
       "    </tr>\n",
       "    <tr>\n",
       "      <th>3</th>\n",
       "      <td>-0.0094</td>\n",
       "      <td>-0.0049</td>\n",
       "      <td>0.0038</td>\n",
       "      <td>0.0146</td>\n",
       "      <td>-0.0009</td>\n",
       "      <td>-0.0076</td>\n",
       "      <td>-0.0129</td>\n",
       "      <td>0.0191</td>\n",
       "      <td>-0.0890</td>\n",
       "      <td>-0.0416</td>\n",
       "    </tr>\n",
       "    <tr>\n",
       "      <th>4</th>\n",
       "      <td>-0.0098</td>\n",
       "      <td>-0.0326</td>\n",
       "      <td>-0.0024</td>\n",
       "      <td>0.0010</td>\n",
       "      <td>-0.0067</td>\n",
       "      <td>-0.0034</td>\n",
       "      <td>-0.0235</td>\n",
       "      <td>-0.0311</td>\n",
       "      <td>-0.0277</td>\n",
       "      <td>-0.0054</td>\n",
       "    </tr>\n",
       "  </tbody>\n",
       "</table>\n",
       "</div>"
      ],
      "text/plain": [
       "    NIFTY  Hindalco  Hero MotoCorp Ltd  Bajaj Auto Ltd  \\\n",
       "0  0.0185   -0.0156            -0.0042          0.0147   \n",
       "1 -0.0051   -0.0011             0.0087          0.0028   \n",
       "2  0.0220    0.0131             0.0164          0.0141   \n",
       "3 -0.0094   -0.0049             0.0038          0.0146   \n",
       "4 -0.0098   -0.0326            -0.0024          0.0010   \n",
       "\n",
       "   Maruti Suzuki India Ltd  Mahindra & Mahindra Ltd  Eicher Motors Ltd  \\\n",
       "0                  -0.0120                   0.0263             0.0399   \n",
       "1                  -0.0150                  -0.0043            -0.0203   \n",
       "2                   0.0121                   0.0293            -0.0158   \n",
       "3                  -0.0009                  -0.0076            -0.0129   \n",
       "4                  -0.0067                  -0.0034            -0.0235   \n",
       "\n",
       "   Tata Motors Ltd  Yes Bank Ltd  Axis Bank Ltd  \n",
       "0           0.0104        0.0332         0.0350  \n",
       "1           0.0108        0.0041        -0.0071  \n",
       "2           0.0407        0.0033         0.0539  \n",
       "3           0.0191       -0.0890        -0.0416  \n",
       "4          -0.0311       -0.0277        -0.0054  "
      ]
     },
     "execution_count": 224,
     "metadata": {},
     "output_type": "execute_result"
    }
   ],
   "source": [
    "jatin=pd.read_csv(\"jatin.csv\")\n",
    "beta=jatin\n",
    "\n",
    "# #calculate variance of daily nifty returns\n",
    "return_nifty_var = beta[\"NIFTY\"].var()\n",
    "# annualised_nifty_var = round(return_nifty_var * 252,2)\n",
    "# annualised_nifty_var\n",
    "\n",
    "##Covariance of stock with respect to nifty index\n",
    "df = pd.DataFrame(beta)\n",
    "df_cov=df.cov()\n",
    "\n",
    "#Correlation of stock \n",
    "df_corr=df.corr(method='pearson', min_periods=1)\n",
    "df_corr\n",
    "\n",
    "def beta(name):\n",
    "    bt=df_cov.iloc[0][name]/(return_nifty_var)\n",
    "    rsqu=df_corr.iloc[0][name]\n",
    "    return bt,rsqu\n",
    "df.head()"
   ]
  },
  {
   "cell_type": "code",
   "execution_count": 227,
   "metadata": {},
   "outputs": [
    {
     "data": {
      "text/plain": [
       "7.22362775434216e-05"
      ]
     },
     "execution_count": 227,
     "metadata": {},
     "output_type": "execute_result"
    }
   ],
   "source": [
    "df_cov.iloc[0][\"Hero MotoCorp Ltd\"]\n",
    "return_nifty_var"
   ]
  },
  {
   "cell_type": "code",
   "execution_count": 230,
   "metadata": {},
   "outputs": [
    {
     "data": {
      "text/plain": [
       "(1.0118389206535827, 0.5614644265323151)"
      ]
     },
     "execution_count": 230,
     "metadata": {},
     "output_type": "execute_result"
    }
   ],
   "source": [
    "beta_hul=beta(\"Maruti Suzuki India Ltd\")\n",
    "beta_hul"
   ]
  }
 ],
 "metadata": {
  "kernelspec": {
   "display_name": "Python 3",
   "language": "python",
   "name": "python3"
  },
  "language_info": {
   "codemirror_mode": {
    "name": "ipython",
    "version": 3
   },
   "file_extension": ".py",
   "mimetype": "text/x-python",
   "name": "python",
   "nbconvert_exporter": "python",
   "pygments_lexer": "ipython3",
   "version": "3.6.4"
  }
 },
 "nbformat": 4,
 "nbformat_minor": 2
}
